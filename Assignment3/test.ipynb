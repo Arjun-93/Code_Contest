{
 "cells": [
  {
   "cell_type": "code",
   "execution_count": 1,
   "metadata": {},
   "outputs": [
    {
     "name": "stdout",
     "output_type": "stream",
     "text": [
      "Collecting msa-toolbox"
     ]
    },
    {
     "name": "stderr",
     "output_type": "stream",
     "text": [
      "\n",
      "[notice] A new release of pip available: 22.3.1 -> 23.0.1\n",
      "[notice] To update, run: python.exe -m pip install --upgrade pip\n"
     ]
    },
    {
     "name": "stdout",
     "output_type": "stream",
     "text": [
      "\n",
      "  Downloading msa_toolbox-0.0.2-py3-none-any.whl (1.6 kB)\n",
      "Installing collected packages: msa-toolbox\n",
      "Successfully installed msa-toolbox-0.0.2\n"
     ]
    }
   ],
   "source": [
    "!pip install msa-toolbox"
   ]
  },
  {
   "cell_type": "code",
   "execution_count": 3,
   "metadata": {},
   "outputs": [
    {
     "name": "stdout",
     "output_type": "stream",
     "text": [
      "Looking in indexes: https://test.pypi.org/simple/\n",
      "Collecting msa-toolbox==0.0.10\n",
      "  Downloading https://test-files.pythonhosted.org/packages/aa/d4/115799d02de0a22ab5328538a7ae80cf7a1b267d0b1ea492fba095a82f9a/msa_toolbox-0.0.10-py3-none-any.whl (27 kB)\n",
      "Requirement already satisfied: numpy>=1.18.0 in c:\\users\\arjun\\appdata\\local\\programs\\python\\python311\\lib\\site-packages (from msa-toolbox==0.0.10) (1.24.2)\n",
      "Collecting scikit-learn<1.2.0,>=0.22.2\n",
      "  Downloading https://test-files.pythonhosted.org/packages/18/0e/930026d0554075f212c974773aab729ad370d0f611eddaa0d8bbaa8eaa33/scikit_learn-1.1.3-cp311-cp311-win_amd64.whl (7.5 MB)\n",
      "     ---------------------------------------- 7.5/7.5 MB 954.2 kB/s eta 0:00:00\n",
      "Requirement already satisfied: six in c:\\users\\arjun\\appdata\\roaming\\python\\python311\\site-packages (from msa-toolbox==0.0.10) (1.16.0)\n",
      "Requirement already satisfied: setuptools in c:\\users\\arjun\\appdata\\local\\programs\\python\\python311\\lib\\site-packages (from msa-toolbox==0.0.10) (65.5.0)\n"
     ]
    },
    {
     "name": "stderr",
     "output_type": "stream",
     "text": [
      "ERROR: Could not find a version that satisfies the requirement tqdm (from msa-toolbox) (from versions: none)\n",
      "ERROR: No matching distribution found for tqdm\n",
      "\n",
      "[notice] A new release of pip available: 22.3.1 -> 23.0.1\n",
      "[notice] To update, run: python.exe -m pip install --upgrade pip\n"
     ]
    }
   ],
   "source": [
    "!pip install -i https://test.pypi.org/simple/ msa-toolbox==0.0.10"
   ]
  },
  {
   "cell_type": "code",
   "execution_count": 4,
   "metadata": {},
   "outputs": [],
   "source": [
    "import msa_toolbox "
   ]
  },
  {
   "cell_type": "code",
   "execution_count": null,
   "metadata": {},
   "outputs": [],
   "source": []
  }
 ],
 "metadata": {
  "kernelspec": {
   "display_name": "Python 3",
   "language": "python",
   "name": "python3"
  },
  "language_info": {
   "codemirror_mode": {
    "name": "ipython",
    "version": 3
   },
   "file_extension": ".py",
   "mimetype": "text/x-python",
   "name": "python",
   "nbconvert_exporter": "python",
   "pygments_lexer": "ipython3",
   "version": "3.11.2"
  },
  "orig_nbformat": 4
 },
 "nbformat": 4,
 "nbformat_minor": 2
}
