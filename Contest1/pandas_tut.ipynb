{
 "cells": [
  {
   "cell_type": "code",
   "execution_count": 1,
   "metadata": {},
   "outputs": [],
   "source": [
    "import pandas as pd\n",
    "\n",
    "df = pd.read_csv('bmd.csv')"
   ]
  },
  {
   "cell_type": "code",
   "execution_count": 2,
   "metadata": {},
   "outputs": [
    {
     "name": "stdout",
     "output_type": "stream",
     "text": [
      "      id        age sex     fracture  weight_kg  height_cm      medication  \\\n",
      "0    469  57.052768   F  no fracture       64.0      155.5  Anticonvulsant   \n",
      "1   8724  75.741225   F  no fracture       78.0      162.0   No medication   \n",
      "2   6736  70.778900   M  no fracture       73.0      170.5   No medication   \n",
      "3  24180  78.247175   F  no fracture       60.0      148.0   No medication   \n",
      "4  17072  54.191877   M  no fracture       55.0      161.0   No medication   \n",
      "\n",
      "   waiting_time     bmd  \n",
      "0            18  0.8793  \n",
      "1            56  0.7946  \n",
      "2            10  0.9067  \n",
      "3            14  0.7112  \n",
      "4            20  0.7909  \n",
      "                 id         age   weight_kg   height_cm  waiting_time  \\\n",
      "count    169.000000  169.000000  169.000000  169.000000    169.000000   \n",
      "mean    9102.556213   63.631531   64.665680  160.254438     19.739645   \n",
      "std     8744.623598   12.356936   11.537171    7.928272     15.800570   \n",
      "min       35.000000   35.814058   36.000000  142.000000      5.000000   \n",
      "25%     2018.000000   54.424211   56.000000  154.000000      9.000000   \n",
      "50%     6702.000000   63.487837   64.500000  160.500000     14.000000   \n",
      "75%    17100.000000   72.080558   73.000000  166.000000     24.000000   \n",
      "max    24208.000000   88.753795   96.000000  177.000000     96.000000   \n",
      "\n",
      "              bmd  \n",
      "count  169.000000  \n",
      "mean     0.783104  \n",
      "std      0.166529  \n",
      "min      0.407600  \n",
      "25%      0.670800  \n",
      "50%      0.786100  \n",
      "75%      0.888800  \n",
      "max      1.362400  \n",
      "<class 'pandas.core.frame.DataFrame'>\n",
      "RangeIndex: 169 entries, 0 to 168\n",
      "Data columns (total 9 columns):\n",
      " #   Column        Non-Null Count  Dtype  \n",
      "---  ------        --------------  -----  \n",
      " 0   id            169 non-null    int64  \n",
      " 1   age           169 non-null    float64\n",
      " 2   sex           169 non-null    object \n",
      " 3   fracture      169 non-null    object \n",
      " 4   weight_kg     169 non-null    float64\n",
      " 5   height_cm     169 non-null    float64\n",
      " 6   medication    169 non-null    object \n",
      " 7   waiting_time  169 non-null    int64  \n",
      " 8   bmd           169 non-null    float64\n",
      "dtypes: float64(4), int64(2), object(3)\n",
      "memory usage: 12.0+ KB\n",
      "None\n",
      "Index(['id', 'age', 'sex', 'fracture', 'weight_kg', 'height_cm', 'medication',\n",
      "       'waiting_time', 'bmd'],\n",
      "      dtype='object')\n",
      "(169, 9)\n",
      "id                int64\n",
      "age             float64\n",
      "sex              object\n",
      "fracture         object\n",
      "weight_kg       float64\n",
      "height_cm       float64\n",
      "medication       object\n",
      "waiting_time      int64\n",
      "bmd             float64\n",
      "dtype: object\n",
      "RangeIndex(start=0, stop=169, step=1)\n"
     ]
    }
   ],
   "source": [
    "print(df.head())\n",
    "print(df.describe())\n",
    "print(df.info())\n",
    "print(df.columns)\n",
    "print(df.shape)\n",
    "print(df.dtypes)\n",
    "print(df.index)"
   ]
  },
  {
   "cell_type": "code",
   "execution_count": null,
   "metadata": {},
   "outputs": [],
   "source": [
    "df.describe()\n",
    "df.info()\n",
    "df.plot()\n",
    "df.iloc()\n",
    "df.loc()\n",
    "df.assign()\n",
    "df.query()\n",
    "df.sort_values()\n",
    "df.sample()\n",
    "df.isnull()\n",
    "df.fillna()\n",
    "df.dropna()\n",
    "df.drop()\n",
    "pd.pivot_table()\n",
    "df.groupby()\n",
    "df.transpose()\n",
    "df.merge()\n",
    "df.rename()\n",
    "df.to_csv()"
   ]
  }
 ],
 "metadata": {
  "kernelspec": {
   "display_name": "Python 3",
   "language": "python",
   "name": "python3"
  },
  "language_info": {
   "codemirror_mode": {
    "name": "ipython",
    "version": 3
   },
   "file_extension": ".py",
   "mimetype": "text/x-python",
   "name": "python",
   "nbconvert_exporter": "python",
   "pygments_lexer": "ipython3",
   "version": "3.9.13"
  },
  "orig_nbformat": 4,
  "vscode": {
   "interpreter": {
    "hash": "c5a9b1db969bd97e3f32583f3a99082870c34f33146338eecd0964e32ada8b48"
   }
  }
 },
 "nbformat": 4,
 "nbformat_minor": 2
}
